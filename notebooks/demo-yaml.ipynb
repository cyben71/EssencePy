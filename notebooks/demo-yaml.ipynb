{
 "cells": [
  {
   "cell_type": "code",
   "execution_count": 1,
   "metadata": {},
   "outputs": [],
   "source": [
    "APPLICATION_NAME = \"DEMO_YamlClass\""
   ]
  },
  {
   "cell_type": "code",
   "execution_count": 2,
   "metadata": {},
   "outputs": [
    {
     "name": "stdout",
     "output_type": "stream",
     "text": [
      "\n",
      "\u001b[96m🔧 Application Context Initialized\u001b[0m\n",
      "\u001b[90m──────────────────────────────────────────────────\u001b[0m\n",
      "\u001b[91m🖥️ SYSTEM\u001b[0m : Darwin (macOS-15.4.1-x86_64-i386-64bit)\n",
      "\u001b[92m🐍 PYTHON_VERSION\u001b[0m : 3.12.3\n",
      "\u001b[92m🧪 INTERPRETER_PATH\u001b[0m : /Users/ben/Documents/2-PersonalProjects/EssencePy/rt/python/bin/python3\n",
      "\u001b[92m📦 ENVIRONMENT\u001b[0m : ✅ Virtualenv actif\n",
      "\u001b[92m📦 EPY_MODULES\u001b[0m : appenv, cfgprops, cfgyaml, log\n",
      "\u001b[93m📁 APPLICATION_HOME\u001b[0m : /Users/ben/Documents/2-PersonalProjects/EssencePy\n",
      "\u001b[93m📛 APPLICATION_NAME\u001b[0m : DEMO_YamlClass\n",
      "📘 ENV file loaded : /Users/ben/Documents/2-PersonalProjects/EssencePy/conf/env.conf\n",
      "📘 PROPERTIES file loaded : /Users/ben/Documents/2-PersonalProjects/EssencePy/conf/application.properties\n",
      "📘 YAML file loaded : /Users/ben/Documents/2-PersonalProjects/EssencePy/conf/application.yaml\n",
      "\n",
      "\u001b[92m✅ Context is ready.\u001b[0m\n",
      "\u001b[90m──────────────────────────────────────────────────\u001b[0m\n"
     ]
    }
   ],
   "source": [
    "import sys\n",
    "from pathlib import Path\n",
    "\n",
    "# Remonter les dossiers jusqu'à trouver lib/init/init_code.py\n",
    "def find_app_home(sentinel: str =\"lib/bootstrap/bootstrap.py\"):\n",
    "    current = Path.cwd().resolve()\n",
    "    root = current.root\n",
    "    while current != root:\n",
    "        if (current / sentinel).is_file():\n",
    "            return current\n",
    "        current = current.parent\n",
    "    raise FileNotFoundError(f\"Impossible de trouver le fichier sentinelle : {sentinel}\")\n",
    "\n",
    "# Trouver et ajouter APPLICATION_HOME au sys.path\n",
    "APPLICATION_HOME = find_app_home()\n",
    "sys.path.insert(0, str(APPLICATION_HOME))\n",
    "#print(f\"APPLICATION_HOME set to: {APPLICATION_HOME}\")\n",
    "\n",
    "from lib.bootstrap.bootstrap import init_env\n",
    "epy = init_env()"
   ]
  },
  {
   "cell_type": "markdown",
   "metadata": {},
   "source": [
    "## Get simple values from Yaml file"
   ]
  },
  {
   "cell_type": "code",
   "execution_count": 3,
   "metadata": {},
   "outputs": [
    {
     "name": "stdout",
     "output_type": "stream",
     "text": [
      "{'Name': 'Karl', 'Age': 24, 'Address': 'France'}\n",
      "<class 'dict'>\n"
     ]
    }
   ],
   "source": [
    "# Get a yaml dict (with stripping by default)\n",
    "mydict = epy.cfgyaml.get(\"aDictionnary\")\n",
    "print(mydict)\n",
    "print(type(mydict))"
   ]
  },
  {
   "cell_type": "code",
   "execution_count": 4,
   "metadata": {},
   "outputs": [
    {
     "name": "stdout",
     "output_type": "stream",
     "text": [
      "{'Name': 'Karl ', 'Age': 24, 'Address': ' France '}\n",
      "<class 'dict'>\n"
     ]
    }
   ],
   "source": [
    "# Get a yaml dict (without stripping)\n",
    "mydict = epy.cfgyaml.get(\"aDictionnary\", strip_values=False)\n",
    "print(mydict)\n",
    "print(type(mydict))"
   ]
  },
  {
   "cell_type": "code",
   "execution_count": 5,
   "metadata": {},
   "outputs": [
    {
     "name": "stdout",
     "output_type": "stream",
     "text": [
      "Follow the Yellow Brick Road to the Emerald City. Pay no attention to the man behind the curtain.\n"
     ]
    }
   ],
   "source": [
    "# Get a bloc value\n",
    "bloc = epy.cfgyaml.get(\"specialDelivery\")\n",
    "print(bloc)"
   ]
  },
  {
   "cell_type": "markdown",
   "metadata": {},
   "source": [
    "## Get env vars from OS"
   ]
  },
  {
   "cell_type": "code",
   "execution_count": 6,
   "metadata": {},
   "outputs": [
    {
     "name": "stdout",
     "output_type": "stream",
     "text": [
      "ben:_\n"
     ]
    }
   ],
   "source": [
    "# Get an OS variable environnement (with stripping) from Linux\n",
    "# \"user_linux\" is from yaml file but value is from OS env. variables\n",
    "os_var_env = epy.cfgyaml.get(\"user_linux\", strip_values=True)\n",
    "print(f\"{os_var_env}:_\")"
   ]
  },
  {
   "cell_type": "code",
   "execution_count": 7,
   "metadata": {},
   "outputs": [
    {
     "name": "stdout",
     "output_type": "stream",
     "text": [
      "${USERNAME}:_\n"
     ]
    }
   ],
   "source": [
    "# Get an OS variable environnement (with stripping) from Windows\n",
    "# \"user_linux\" is from yaml file but value is from OS env. variables\n",
    "os_var_env = epy.cfgyaml.get(\"user_windows\", strip_values=True)\n",
    "print(f\"{os_var_env}:_\")"
   ]
  },
  {
   "cell_type": "code",
   "execution_count": 8,
   "metadata": {},
   "outputs": [
    {
     "name": "stdout",
     "output_type": "stream",
     "text": [
      "Password1235\n"
     ]
    }
   ],
   "source": [
    "# var_env is from yaml file but PWDTEST is user env_vars (set in Windows)\n",
    "var_env = epy.cfgyaml.get(\"var_env\")\n",
    "print(var_env)"
   ]
  },
  {
   "cell_type": "markdown",
   "metadata": {},
   "source": [
    "## Using imbricated values"
   ]
  },
  {
   "cell_type": "code",
   "execution_count": 9,
   "metadata": {},
   "outputs": [
    {
     "name": "stdout",
     "output_type": "stream",
     "text": [
      "Dorothy\n"
     ]
    }
   ],
   "source": [
    "# Get a imbricated value\n",
    "# \"customerName\" is in yaml file and come from a previous dictionary called \"customer\"\n",
    "imb_value = epy.cfgyaml.get(\"customerName\")\n",
    "print(imb_value)"
   ]
  },
  {
   "cell_type": "code",
   "execution_count": 10,
   "metadata": {},
   "outputs": [
    {
     "name": "stdout",
     "output_type": "stream",
     "text": [
      "My Application_Password1235\n"
     ]
    }
   ],
   "source": [
    "# Get a simple value with a placehold coming from OS env. vars\n",
    "print(epy.cfgyaml.get('placeholder'))"
   ]
  }
 ],
 "metadata": {
  "kernelspec": {
   "display_name": "python",
   "language": "python",
   "name": "python3"
  },
  "language_info": {
   "codemirror_mode": {
    "name": "ipython",
    "version": 3
   },
   "file_extension": ".py",
   "mimetype": "text/x-python",
   "name": "python",
   "nbconvert_exporter": "python",
   "pygments_lexer": "ipython3",
   "version": "3.12.3"
  }
 },
 "nbformat": 4,
 "nbformat_minor": 4
}
