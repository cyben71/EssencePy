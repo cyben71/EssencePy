{
 "cells": [
  {
   "cell_type": "code",
   "execution_count": 1,
   "metadata": {},
   "outputs": [],
   "source": [
    "APPLICATION_NAME = \"DEMO_YamlClass\""
   ]
  },
  {
   "cell_type": "code",
   "execution_count": 2,
   "metadata": {},
   "outputs": [
    {
     "name": "stdout",
     "output_type": "stream",
     "text": [
      ">> Configuration actuelle : <<\n",
      "APPLICATION_HOME: c:\\Users\\f9990990\\Downloads\\PYTHON_PROJECTS\\essencepy\n",
      "APPLICATION_NAME: DEMO_YamlClass\n",
      "PARENT_PYTHON_HOME: c:\\Users\\f9990990\\Downloads\\PYTHON_PROJECTS\\essencepy/rt/python\n",
      "PYTHON_HOME: c:\\Users\\f9990990\\Downloads\\PYTHON_PROJECTS\\essencepy/rt/python\n",
      "ENV_CONF: c:\\Users\\f9990990\\Downloads\\PYTHON_PROJECTS\\essencepy\\conf\\env.conf\n",
      "PROPERTIES_FILE: c:\\Users\\f9990990\\Downloads\\PYTHON_PROJECTS\\essencepy\\conf\\application.properties\n",
      "YAML_FILE: c:\\Users\\f9990990\\Downloads\\PYTHON_PROJECTS\\essencepy/conf/application.yaml\n"
     ]
    }
   ],
   "source": [
    "import os, sys\n",
    "from pathlib import Path\n",
    "\n",
    "### APPLICATION_HOME ###\n",
    "APPLICATION_HOME = os.getenv(\"APPLICATION_HOME\")\n",
    "if APPLICATION_HOME is None:\n",
    "    current_path = Path.cwd()   # get previous folder from current location\n",
    "    # checking init_code.py is existing in lib/init\n",
    "    for parent in current_path.parents:\n",
    "        if (parent / 'lib/init/init_code.py').exists():\n",
    "            APPLICATION_HOME = str(parent)  # APPLICATION_HOME trouvé\n",
    "            break\n",
    "    else:\n",
    "        # Fallback : using current folder if nothing found\n",
    "        APPLICATION_HOME = str(current_path)\n",
    "\n",
    "# ### APPLICATION_NAME ###\n",
    "if (os.getenv(\"APPLICATION_NAME\") is not None): \n",
    "    APPLICATION_NAME = os.getenv(\"APPLICATION_NAME\")\n",
    "else:\n",
    "    try: APPLICATION_NAME # APPLICATION_NAME not defined\n",
    "    except: APPLICATION_NAME = None\n",
    "    if APPLICATION_NAME is None: \n",
    "        APPLICATION_NAME = \"Default\"\n",
    "\n",
    "# Load dynamically libraries files\n",
    "sys.path.append(f\"{APPLICATION_HOME}/lib/init\")\n",
    "\n",
    "# Import init_code for loading class included in lib/init\n",
    "from init_code import load_and_initialize_classes\n",
    "\n",
    "# Load and initiate classes with globale vars\n",
    "global_vars={\"app_home\": APPLICATION_HOME,\n",
    "             \"app_name\": APPLICATION_NAME}\n",
    "\n",
    "instances = load_and_initialize_classes(f\"{APPLICATION_HOME}/lib/init\", global_vars)"
   ]
  },
  {
   "cell_type": "markdown",
   "metadata": {},
   "source": [
    "## Get simple values from Yaml file"
   ]
  },
  {
   "cell_type": "code",
   "execution_count": 3,
   "metadata": {},
   "outputs": [
    {
     "name": "stdout",
     "output_type": "stream",
     "text": [
      "{'Name': 'Karl', 'Age': 24, 'Address': 'France'}\n",
      "<class 'dict'>\n"
     ]
    }
   ],
   "source": [
    "# Get a yaml dict (with stripping by default)\n",
    "mydict = cfg_yaml.get(\"aDictionnary\")\n",
    "print(mydict)\n",
    "print(type(mydict))"
   ]
  },
  {
   "cell_type": "code",
   "execution_count": 4,
   "metadata": {},
   "outputs": [
    {
     "name": "stdout",
     "output_type": "stream",
     "text": [
      "{'Name': 'Karl ', 'Age': 24, 'Address': ' France '}\n",
      "<class 'dict'>\n"
     ]
    }
   ],
   "source": [
    "# Get a yaml dict (without stripping)\n",
    "mydict = cfg_yaml.get(\"aDictionnary\", strip_values=False)\n",
    "print(mydict)\n",
    "print(type(mydict))"
   ]
  },
  {
   "cell_type": "code",
   "execution_count": 5,
   "metadata": {},
   "outputs": [
    {
     "name": "stdout",
     "output_type": "stream",
     "text": [
      "Follow the Yellow Brick Road to the Emerald City. Pay no attention to the man behind the curtain.\n"
     ]
    }
   ],
   "source": [
    "# Get a bloc value\n",
    "bloc = cfg_yaml.get(\"specialDelivery\")\n",
    "print(bloc)"
   ]
  },
  {
   "cell_type": "markdown",
   "metadata": {},
   "source": [
    "## Get env vars from OS"
   ]
  },
  {
   "cell_type": "code",
   "execution_count": 6,
   "metadata": {},
   "outputs": [
    {
     "name": "stdout",
     "output_type": "stream",
     "text": [
      "${USER}:_\n"
     ]
    }
   ],
   "source": [
    "# Get an OS variable environnement (with stripping) from Linux\n",
    "# \"user_linux\" is from yaml file but value is from OS env. variables\n",
    "os_var_env = cfg_yaml.get(\"user_linux\", strip_values=True)\n",
    "print(f\"{os_var_env}:_\")"
   ]
  },
  {
   "cell_type": "code",
   "execution_count": 7,
   "metadata": {},
   "outputs": [
    {
     "name": "stdout",
     "output_type": "stream",
     "text": [
      "f9990990:_\n"
     ]
    }
   ],
   "source": [
    "# Get an OS variable environnement (with stripping) from Windows\n",
    "# \"user_linux\" is from yaml file but value is from OS env. variables\n",
    "os_var_env = cfg_yaml.get(\"user_windows\", strip_values=True)\n",
    "print(f\"{os_var_env}:_\")"
   ]
  },
  {
   "cell_type": "code",
   "execution_count": 8,
   "metadata": {},
   "outputs": [
    {
     "name": "stdout",
     "output_type": "stream",
     "text": [
      "PersonalVarEnv_Windows\n"
     ]
    }
   ],
   "source": [
    "# var_env is from yaml file but PWDTEST is user env_vars (set in Windows)\n",
    "var_env = cfg_yaml.get(\"var_env\")\n",
    "print(var_env)"
   ]
  },
  {
   "cell_type": "markdown",
   "metadata": {},
   "source": [
    "## Using imbricated values"
   ]
  },
  {
   "cell_type": "code",
   "execution_count": 9,
   "metadata": {},
   "outputs": [
    {
     "name": "stdout",
     "output_type": "stream",
     "text": [
      "Dorothy\n"
     ]
    }
   ],
   "source": [
    "# Get a imbricated value\n",
    "# \"customerName\" is in yaml file and come from a previous dictionary called \"customer\"\n",
    "imb_value = cfg_yaml.get(\"customerName\")\n",
    "print(imb_value)"
   ]
  },
  {
   "cell_type": "code",
   "execution_count": null,
   "metadata": {},
   "outputs": [
    {
     "name": "stdout",
     "output_type": "stream",
     "text": [
      "My Application_PersonalVarEnv_Windows\n"
     ]
    }
   ],
   "source": [
    "# Get a simple value with a placehold coming from OS env. vars\n",
    "print(cfg_yaml.get('placeholder'))"
   ]
  }
 ],
 "metadata": {
  "kernelspec": {
   "display_name": "python",
   "language": "python",
   "name": "python3"
  },
  "language_info": {
   "codemirror_mode": {
    "name": "ipython",
    "version": 3
   },
   "file_extension": ".py",
   "mimetype": "text/x-python",
   "name": "python",
   "nbconvert_exporter": "python",
   "pygments_lexer": "ipython3",
   "version": "3.12.8"
  }
 },
 "nbformat": 4,
 "nbformat_minor": 4
}
