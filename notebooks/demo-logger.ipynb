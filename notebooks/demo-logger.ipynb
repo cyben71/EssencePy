{
 "cells": [
  {
   "cell_type": "code",
   "execution_count": 1,
   "metadata": {},
   "outputs": [],
   "source": [
    "APPLICATION_NAME = \"DEMO_LoggerClass\""
   ]
  },
  {
   "cell_type": "code",
   "execution_count": 2,
   "metadata": {},
   "outputs": [
    {
     "name": "stdout",
     "output_type": "stream",
     "text": [
      ">> Configuration actuelle : <<\n",
      "APPLICATION_HOME: c:\\Users\\f9990990\\Downloads\\PYTHON_PROJECTS\\essencepy\n",
      "APPLICATION_NAME: DEMO_LoggerClass\n",
      "PARENT_PYTHON_HOME: c:\\Users\\f9990990\\Downloads\\PYTHON_PROJECTS\\essencepy/rt/python\n",
      "PYTHON_HOME: c:\\Users\\f9990990\\Downloads\\PYTHON_PROJECTS\\essencepy/rt/python\n",
      "ENV_CONF: c:\\Users\\f9990990\\Downloads\\PYTHON_PROJECTS\\essencepy\\conf\\env.conf\n",
      "PROPERTIES_FILE: c:\\Users\\f9990990\\Downloads\\PYTHON_PROJECTS\\essencepy\\conf\\application.properties\n",
      "YAML_FILE: c:\\Users\\f9990990\\Downloads\\PYTHON_PROJECTS\\essencepy/conf/application.yaml\n"
     ]
    }
   ],
   "source": [
    "import os, sys\n",
    "from pathlib import Path\n",
    "\n",
    "### APPLICATION_HOME ###\n",
    "APPLICATION_HOME = os.getenv(\"APPLICATION_HOME\")\n",
    "if APPLICATION_HOME is None:\n",
    "    current_path = Path.cwd()   # get previous folder from current location\n",
    "    # checking init_code.py is existing in lib/init\n",
    "    for parent in current_path.parents:\n",
    "        if (parent / 'lib/init/init_code.py').exists():\n",
    "            APPLICATION_HOME = str(parent)  # APPLICATION_HOME trouvé\n",
    "            break\n",
    "    else:\n",
    "        # Fallback : using current folder if nothing found\n",
    "        APPLICATION_HOME = str(current_path)\n",
    "\n",
    "# ### APPLICATION_NAME ###\n",
    "if (os.getenv(\"APPLICATION_NAME\") is not None): \n",
    "    APPLICATION_NAME = os.getenv(\"APPLICATION_NAME\")\n",
    "else:\n",
    "    try: APPLICATION_NAME # APPLICATION_NAME not defined\n",
    "    except: APPLICATION_NAME = None\n",
    "    if APPLICATION_NAME is None: \n",
    "        APPLICATION_NAME = \"Default\"\n",
    "\n",
    "# Load dynamically libraries files\n",
    "sys.path.append(f\"{APPLICATION_HOME}/lib/init\")\n",
    "\n",
    "# Import init_code for loading class included in lib/init\n",
    "from init_code import load_and_initialize_classes\n",
    "\n",
    "# Load and initiate classes with globale vars\n",
    "global_vars={\"app_home\": APPLICATION_HOME,\n",
    "             \"app_name\": APPLICATION_NAME}\n",
    "\n",
    "instances = load_and_initialize_classes(f\"{APPLICATION_HOME}/lib/init\", global_vars)"
   ]
  },
  {
   "cell_type": "markdown",
   "metadata": {},
   "source": [
    "## Testing log functions"
   ]
  },
  {
   "cell_type": "code",
   "execution_count": 3,
   "metadata": {},
   "outputs": [
    {
     "name": "stdout",
     "output_type": "stream",
     "text": [
      "2025-04-17 12:21:37 - INFO : Testing INFO message : 2025-04-17 12:21:37\n"
     ]
    }
   ],
   "source": [
    "log.info(f\"Testing INFO message : {app_env.get_current_date()} {app_env.get_current_time()}\")"
   ]
  },
  {
   "cell_type": "code",
   "execution_count": 4,
   "metadata": {},
   "outputs": [
    {
     "name": "stdout",
     "output_type": "stream",
     "text": [
      "2025-04-17 12:21:37 - WARN : Testing WARN message : 2025-04-17 12:21:37\n"
     ]
    }
   ],
   "source": [
    "log.warning(f\"Testing WARN message : {app_env.get_current_date()} {app_env.get_current_time()}\")"
   ]
  },
  {
   "cell_type": "code",
   "execution_count": 5,
   "metadata": {},
   "outputs": [
    {
     "name": "stdout",
     "output_type": "stream",
     "text": [
      "2025-04-17 12:21:37 - ERROR : Testing ERROR message : 2025-04-17 12:21:37\n"
     ]
    }
   ],
   "source": [
    "log.error(f\"Testing ERROR message : {app_env.get_current_date()} {app_env.get_current_time()}\")"
   ]
  },
  {
   "cell_type": "markdown",
   "metadata": {},
   "source": [
    "## Testing other functions"
   ]
  },
  {
   "cell_type": "code",
   "execution_count": 6,
   "metadata": {},
   "outputs": [
    {
     "data": {
      "text/plain": [
       "'c:\\\\Users\\\\f9990990\\\\Downloads\\\\PYTHON_PROJECTS\\\\essencepy/log/DEMO_LoggerClass_2025-04-17.log'"
      ]
     },
     "execution_count": 6,
     "metadata": {},
     "output_type": "execute_result"
    }
   ],
   "source": [
    "log.get_log_file"
   ]
  },
  {
   "cell_type": "code",
   "execution_count": 7,
   "metadata": {},
   "outputs": [
    {
     "data": {
      "text/plain": [
       "'c:\\\\Users\\\\f9990990\\\\Downloads\\\\PYTHON_PROJECTS\\\\essencepy/log'"
      ]
     },
     "execution_count": 7,
     "metadata": {},
     "output_type": "execute_result"
    }
   ],
   "source": [
    "log.get_log_folder"
   ]
  }
 ],
 "metadata": {
  "kernelspec": {
   "display_name": "python",
   "language": "python",
   "name": "python3"
  },
  "language_info": {
   "codemirror_mode": {
    "name": "ipython",
    "version": 3
   },
   "file_extension": ".py",
   "mimetype": "text/x-python",
   "name": "python",
   "nbconvert_exporter": "python",
   "pygments_lexer": "ipython3",
   "version": "3.12.8"
  }
 },
 "nbformat": 4,
 "nbformat_minor": 2
}
