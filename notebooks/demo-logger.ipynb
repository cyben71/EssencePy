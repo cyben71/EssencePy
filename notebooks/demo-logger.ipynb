{
 "cells": [
  {
   "cell_type": "code",
   "execution_count": 1,
   "metadata": {},
   "outputs": [],
   "source": [
    "APPLICATION_NAME = \"DEMO_LoggerClass\""
   ]
  },
  {
   "cell_type": "code",
   "execution_count": 2,
   "metadata": {},
   "outputs": [
    {
     "name": "stdout",
     "output_type": "stream",
     "text": [
      "\n",
      "\u001b[96m🔧 Application Context Initialized\u001b[0m\n",
      "\u001b[90m──────────────────────────────────────────────────\u001b[0m\n",
      "\u001b[91m🖥️ SYSTEM\u001b[0m : Darwin (macOS-15.4.1-x86_64-i386-64bit)\n",
      "\u001b[92m🐍 PYTHON_VERSION\u001b[0m : 3.12.3\n",
      "\u001b[92m🧪 INTERPRETER_PATH\u001b[0m : /Users/ben/Documents/2-PersonalProjects/EssencePy/rt/python/bin/python3\n",
      "\u001b[92m📦 ENVIRONMENT\u001b[0m : ✅ Virtualenv actif\n",
      "\u001b[92m📦 EPY_MODULES\u001b[0m : appenv, cfgprops, cfgyaml, log\n",
      "\u001b[93m📁 APPLICATION_HOME\u001b[0m : /Users/ben/Documents/2-PersonalProjects/EssencePy\n",
      "\u001b[93m📛 APPLICATION_NAME\u001b[0m : DEMO_LoggerClass\n",
      "📘 ENV file loaded : /Users/ben/Documents/2-PersonalProjects/EssencePy/conf/env.conf\n",
      "📘 PROPERTIES file loaded : /Users/ben/Documents/2-PersonalProjects/EssencePy/conf/application.properties\n",
      "📘 YAML file loaded : /Users/ben/Documents/2-PersonalProjects/EssencePy/conf/application.yaml\n",
      "\n",
      "\u001b[92m✅ Context is ready.\u001b[0m\n",
      "\u001b[90m──────────────────────────────────────────────────\u001b[0m\n"
     ]
    }
   ],
   "source": [
    "import sys\n",
    "from pathlib import Path\n",
    "\n",
    "# Remonter les dossiers jusqu'à trouver lib/init/init_code.py\n",
    "def find_app_home(sentinel: str =\"lib/bootstrap/bootstrap.py\"):\n",
    "    current = Path.cwd().resolve()\n",
    "    root = current.root\n",
    "    while current != root:\n",
    "        if (current / sentinel).is_file():\n",
    "            return current\n",
    "        current = current.parent\n",
    "    raise FileNotFoundError(f\"Impossible de trouver le fichier sentinelle : {sentinel}\")\n",
    "\n",
    "# Trouver et ajouter APPLICATION_HOME au sys.path\n",
    "APPLICATION_HOME = find_app_home()\n",
    "sys.path.insert(0, str(APPLICATION_HOME))\n",
    "#print(f\"APPLICATION_HOME set to: {APPLICATION_HOME}\")\n",
    "\n",
    "from lib.bootstrap.bootstrap import init_env\n",
    "epy = init_env()"
   ]
  },
  {
   "cell_type": "markdown",
   "metadata": {},
   "source": [
    "## Testing log functions"
   ]
  },
  {
   "cell_type": "code",
   "execution_count": 3,
   "metadata": {},
   "outputs": [
    {
     "name": "stdout",
     "output_type": "stream",
     "text": [
      "2025-05-28 13:22:12 - INFO : Testing INFO message : 2025-05-28 13:22:12\n"
     ]
    }
   ],
   "source": [
    "epy.log.info(f\"Testing INFO message : {epy.appenv.get_current_date()} {epy.appenv.get_current_time()}\")"
   ]
  },
  {
   "cell_type": "code",
   "execution_count": 4,
   "metadata": {},
   "outputs": [
    {
     "name": "stdout",
     "output_type": "stream",
     "text": [
      "2025-05-28 13:22:12 - WARN : Testing WARNING message : 2025-05-28 13:22:12\n"
     ]
    }
   ],
   "source": [
    "epy.log.warning(f\"Testing WARNING message : {epy.appenv.get_current_date()} {epy.appenv.get_current_time()}\")"
   ]
  },
  {
   "cell_type": "code",
   "execution_count": 5,
   "metadata": {},
   "outputs": [
    {
     "name": "stdout",
     "output_type": "stream",
     "text": [
      "2025-05-28 13:22:12 - ERROR : Testing ERROR message : 2025-05-28 13:22:12\n"
     ]
    }
   ],
   "source": [
    "epy.log.error(f\"Testing ERROR message : {epy.appenv.get_current_date()} {epy.appenv.get_current_time()}\")"
   ]
  },
  {
   "cell_type": "markdown",
   "metadata": {},
   "source": [
    "## Testing other functions"
   ]
  },
  {
   "cell_type": "code",
   "execution_count": 6,
   "metadata": {},
   "outputs": [
    {
     "data": {
      "text/plain": [
       "'/Users/ben/Documents/2-PersonalProjects/EssencePy/log/DEMO_LoggerClass_2025-05-28.log'"
      ]
     },
     "execution_count": 6,
     "metadata": {},
     "output_type": "execute_result"
    }
   ],
   "source": [
    "epy.log.get_log_file"
   ]
  },
  {
   "cell_type": "code",
   "execution_count": 7,
   "metadata": {},
   "outputs": [
    {
     "data": {
      "text/plain": [
       "'/Users/ben/Documents/2-PersonalProjects/EssencePy/log'"
      ]
     },
     "execution_count": 7,
     "metadata": {},
     "output_type": "execute_result"
    }
   ],
   "source": [
    "epy.log.get_log_folder"
   ]
  }
 ],
 "metadata": {
  "kernelspec": {
   "display_name": "python",
   "language": "python",
   "name": "python3"
  },
  "language_info": {
   "codemirror_mode": {
    "name": "ipython",
    "version": 3
   },
   "file_extension": ".py",
   "mimetype": "text/x-python",
   "name": "python",
   "nbconvert_exporter": "python",
   "pygments_lexer": "ipython3",
   "version": "3.12.3"
  }
 },
 "nbformat": 4,
 "nbformat_minor": 2
}
