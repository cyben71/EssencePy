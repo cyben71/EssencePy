{
 "cells": [
  {
   "cell_type": "code",
   "execution_count": 1,
   "metadata": {},
   "outputs": [],
   "source": [
    "APPLICATION_NAME = \"Notebook\""
   ]
  },
  {
   "cell_type": "code",
   "execution_count": 2,
   "metadata": {},
   "outputs": [
    {
     "name": "stdout",
     "output_type": "stream",
     "text": [
      "\n",
      "\u001b[96m🔧  Application Context Initialized\u001b[0m\n",
      "\u001b[90m──────────────────────────────────────────────────\u001b[0m\n",
      "\u001b[91m🖥️  SYSTEM\u001b[0m : Windows (Windows-11-10.0.26100-SP0)\n",
      "\u001b[92m🐍  PYTHON_VERSION\u001b[0m : 3.12.8\n",
      "\u001b[92m🧪  INTERPRETER_PATH\u001b[0m : c:\\Users\\bgonzale\\Downloads\\PYTHON_PROJECT\\EssencePy\\rt\\Scripts\\python.exe\n",
      "\u001b[92m📦  ENVIRONMENT\u001b[0m : ✅ Virtualenv actif\n",
      "\u001b[92m📦  EPY_MODULES\u001b[0m : appenv, cfgprops, cfgyaml, log\n",
      "\u001b[93m📁  APPLICATION_HOME\u001b[0m : C:\\Users\\bgonzale\\Downloads\\PYTHON_PROJECT\\EssencePy\n",
      "\u001b[93m📛  APPLICATION_NAME\u001b[0m : Notebook\n",
      "📘  ENV file loaded : C:\\Users\\bgonzale\\Downloads\\PYTHON_PROJECT\\EssencePy\\conf\\env.conf\n",
      "📘  PROPERTIES file loaded : C:\\Users\\bgonzale\\Downloads\\PYTHON_PROJECT\\EssencePy\\conf\\application.properties\n",
      "📘  YAML file loaded : C:\\Users\\bgonzale\\Downloads\\PYTHON_PROJECT\\EssencePy/conf/application.yaml\n",
      "\n",
      "\u001b[92m✅  Context is ready.\u001b[0m\n",
      "\u001b[90m──────────────────────────────────────────────────\u001b[0m\n"
     ]
    }
   ],
   "source": [
    "import sys\n",
    "from pathlib import Path\n",
    "\n",
    "# Remonter les dossiers jusqu'à trouver lib/init/init_code.py\n",
    "def find_app_home(sentinel: str =\"lib/bootstrap/bootstrap.py\"):\n",
    "    current = Path.cwd().resolve()\n",
    "    root = current.root\n",
    "    while current != root:\n",
    "        if (current / sentinel).is_file():\n",
    "            return current\n",
    "        current = current.parent\n",
    "    raise FileNotFoundError(f\"Impossible de trouver le fichier sentinelle : {sentinel}\")\n",
    "\n",
    "# Trouver et ajouter APPLICATION_HOME au sys.path\n",
    "APPLICATION_HOME = find_app_home()\n",
    "sys.path.insert(0, str(APPLICATION_HOME))\n",
    "#print(f\"APPLICATION_HOME set to: {APPLICATION_HOME}\")\n",
    "\n",
    "from lib.bootstrap.bootstrap import init_env\n",
    "epy = init_env()"
   ]
  },
  {
   "cell_type": "markdown",
   "metadata": {},
   "source": [
    "## Methods and functions from class: AppEnv"
   ]
  },
  {
   "cell_type": "code",
   "execution_count": 3,
   "metadata": {},
   "outputs": [
    {
     "name": "stdout",
     "output_type": "stream",
     "text": [
      "2025-08-06\n",
      "FPBDD30M\n"
     ]
    }
   ],
   "source": [
    "print(epy.appenv.get_current_date())\n",
    "print(epy.appenv.get_hostname())"
   ]
  },
  {
   "cell_type": "code",
   "execution_count": 4,
   "metadata": {},
   "outputs": [
    {
     "name": "stdout",
     "output_type": "stream",
     "text": [
      "Windows (Windows-11-10.0.26100-SP0)\n"
     ]
    }
   ],
   "source": [
    "print(epy.appenv.get_system())"
   ]
  },
  {
   "cell_type": "markdown",
   "metadata": {},
   "source": [
    "## Using your own class (outside of bootstrap)"
   ]
  },
  {
   "cell_type": "code",
   "execution_count": 6,
   "metadata": {},
   "outputs": [],
   "source": [
    "# load your class\n",
    "from lib.my_dummy_class import Dummy"
   ]
  },
  {
   "cell_type": "code",
   "execution_count": 7,
   "metadata": {},
   "outputs": [],
   "source": [
    "# instanciate with required arguments\n",
    "cls = Dummy(epy)"
   ]
  },
  {
   "cell_type": "code",
   "execution_count": 8,
   "metadata": {},
   "outputs": [
    {
     "name": "stdout",
     "output_type": "stream",
     "text": [
      "Hello World from C:\\Users\\bgonzale\\Downloads\\PYTHON_PROJECT\\EssencePy\n"
     ]
    }
   ],
   "source": [
    "# use your class\n",
    "cls.dummy_function()"
   ]
  }
 ],
 "metadata": {
  "kernelspec": {
   "display_name": "rt",
   "language": "python",
   "name": "python3"
  },
  "language_info": {
   "codemirror_mode": {
    "name": "ipython",
    "version": 3
   },
   "file_extension": ".py",
   "mimetype": "text/x-python",
   "name": "python",
   "nbconvert_exporter": "python",
   "pygments_lexer": "ipython3",
   "version": "3.12.8"
  }
 },
 "nbformat": 4,
 "nbformat_minor": 4
}
