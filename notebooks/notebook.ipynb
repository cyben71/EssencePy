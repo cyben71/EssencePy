{
 "cells": [
  {
   "cell_type": "code",
   "execution_count": 8,
   "metadata": {},
   "outputs": [],
   "source": [
    "APPLICATION_NAME = \"Notebook\""
   ]
  },
  {
   "cell_type": "code",
   "execution_count": null,
   "metadata": {},
   "outputs": [],
   "source": [
    "import sys\n",
    "from pathlib import Path\n",
    "\n",
    "# Remonter les dossiers jusqu'à trouver lib/init/init_code.py\n",
    "def find_app_home(sentinel: str =\"lib/bootstrap/bootstrap.py\"):\n",
    "    current = Path.cwd().resolve()\n",
    "    root = current.root\n",
    "    while current != root:\n",
    "        if (current / sentinel).is_file():\n",
    "            return current\n",
    "        current = current.parent\n",
    "    raise FileNotFoundError(f\"Impossible de trouver le fichier sentinelle : {sentinel}\")\n",
    "\n",
    "# Trouver et ajouter APPLICATION_HOME au sys.path\n",
    "APPLICATION_HOME = find_app_home()\n",
    "sys.path.insert(0, str(APPLICATION_HOME))\n",
    "#print(f\"APPLICATION_HOME set to: {APPLICATION_HOME}\")\n",
    "\n",
    "from lib.bootstrap.bootstrap import init_env\n",
    "epy = init_env()"
   ]
  },
  {
   "cell_type": "markdown",
   "metadata": {},
   "source": [
    "## Methods and functions from class: AppEnv"
   ]
  },
  {
   "cell_type": "code",
   "execution_count": null,
   "metadata": {},
   "outputs": [],
   "source": [
    "print(epy.appenv.get_current_date())\n",
    "print(epy.appenv.get_hostname())"
   ]
  },
  {
   "cell_type": "code",
   "execution_count": null,
   "metadata": {},
   "outputs": [],
   "source": [
    "print(epy.appenv.get_system())"
   ]
  },
  {
   "cell_type": "markdown",
   "metadata": {},
   "source": [
    "## Using your own class (outside of bootstrap)"
   ]
  },
  {
   "cell_type": "code",
   "execution_count": 12,
   "metadata": {},
   "outputs": [],
   "source": [
    "cls = epy.load_class(module_name='my_dummy_class', args=[epy, APPLICATION_NAME])"
   ]
  },
  {
   "cell_type": "code",
   "execution_count": null,
   "metadata": {},
   "outputs": [],
   "source": [
    "cls.dummy_function()"
   ]
  },
  {
   "cell_type": "code",
   "execution_count": null,
   "metadata": {},
   "outputs": [],
   "source": [
    "cls.app_name"
   ]
  }
 ],
 "metadata": {
  "kernelspec": {
   "display_name": "Python 3",
   "language": "python",
   "name": "python3"
  },
  "language_info": {
   "codemirror_mode": {
    "name": "ipython",
    "version": 3
   },
   "file_extension": ".py",
   "mimetype": "text/x-python",
   "name": "python",
   "nbconvert_exporter": "python",
   "pygments_lexer": "ipython3",
   "version": "3.12.8"
  }
 },
 "nbformat": 4,
 "nbformat_minor": 4
}
