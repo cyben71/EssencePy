{
 "cells": [
  {
   "cell_type": "code",
   "execution_count": null,
   "metadata": {},
   "outputs": [],
   "source": [
    "APPLICATION_NAME = \"Notebook\""
   ]
  },
  {
   "cell_type": "code",
   "execution_count": null,
   "metadata": {},
   "outputs": [],
   "source": [
    "import os, sys\n",
    "from pathlib import Path\n",
    "\n",
    "### APPLICATION_HOME ###\n",
    "APPLICATION_HOME = os.getenv(\"APPLICATION_HOME\")\n",
    "if APPLICATION_HOME is None:\n",
    "    current_path = Path.cwd()   # get previous folder from current location\n",
    "    # checking init_code.py is existing in lib/init\n",
    "    for parent in current_path.parents:\n",
    "        if (parent / 'lib/init/init_code.py').exists():\n",
    "            APPLICATION_HOME = str(parent)  # APPLICATION_HOME trouvé\n",
    "            break\n",
    "    else:\n",
    "        # Fallback : using current folder if nothing found\n",
    "        APPLICATION_HOME = str(current_path)\n",
    "\n",
    "# ### APPLICATION_NAME ###\n",
    "if (os.getenv(\"APPLICATION_NAME\") is not None): \n",
    "    APPLICATION_NAME = os.getenv(\"APPLICATION_NAME\")\n",
    "else:\n",
    "    try: APPLICATION_NAME # APPLICATION_NAME not defined\n",
    "    except: APPLICATION_NAME = None\n",
    "    if APPLICATION_NAME is None: \n",
    "        APPLICATION_NAME = \"Default\"\n",
    "\n",
    "# Load dynamically libraries files\n",
    "sys.path.append(f\"{APPLICATION_HOME}/lib/init\")\n",
    "\n",
    "# Import init_code for loading class included in lib/init\n",
    "from init_code import load_and_initialize_classes\n",
    "\n",
    "# Load and initiate classes with globale vars\n",
    "global_vars={\"app_home\": APPLICATION_HOME,\n",
    "             \"app_name\": APPLICATION_NAME}\n",
    "\n",
    "instances = load_and_initialize_classes(f\"{APPLICATION_HOME}/lib/init\", global_vars)"
   ]
  },
  {
   "cell_type": "markdown",
   "metadata": {},
   "source": [
    "\n",
    "## Test AppEnv"
   ]
  },
  {
   "cell_type": "code",
   "execution_count": null,
   "metadata": {},
   "outputs": [],
   "source": [
    "print(app_env.get_application_home)\n",
    "print(app_env.get_application_name)"
   ]
  },
  {
   "cell_type": "code",
   "execution_count": null,
   "metadata": {},
   "outputs": [],
   "source": [
    "print(app_env.get_current_date())\n",
    "print(app_env.get_hostname())"
   ]
  }
 ],
 "metadata": {
  "kernelspec": {
   "display_name": "python",
   "language": "python",
   "name": "python3"
  },
  "language_info": {
   "codemirror_mode": {
    "name": "ipython",
    "version": 3
   },
   "file_extension": ".py",
   "mimetype": "text/x-python",
   "name": "python",
   "nbconvert_exporter": "python",
   "pygments_lexer": "ipython3",
   "version": "3.12.8"
  }
 },
 "nbformat": 4,
 "nbformat_minor": 4
}
