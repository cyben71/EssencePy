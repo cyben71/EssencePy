{
 "cells": [
  {
   "cell_type": "code",
   "execution_count": 1,
   "metadata": {},
   "outputs": [],
   "source": [
    "APPLICATION_NAME = \"DEMO_PropertiesClass\""
   ]
  },
  {
   "cell_type": "code",
   "execution_count": 2,
   "metadata": {},
   "outputs": [
    {
     "name": "stdout",
     "output_type": "stream",
     "text": [
      ">> Configuration actuelle : <<\n",
      "APPLICATION_HOME: c:\\Users\\f9990990\\Downloads\\PYTHON_PROJECTS\\essencepy\n",
      "APPLICATION_NAME: DEMO_PropertiesClass\n",
      "PARENT_PYTHON_HOME: c:\\Users\\f9990990\\Downloads\\PYTHON_PROJECTS\\essencepy/rt/python\n",
      "PYTHON_HOME: c:\\Users\\f9990990\\Downloads\\PYTHON_PROJECTS\\essencepy/rt/python\n",
      "ENV_CONF: c:\\Users\\f9990990\\Downloads\\PYTHON_PROJECTS\\essencepy\\conf\\env.conf\n",
      "PROPERTIES_FILE: c:\\Users\\f9990990\\Downloads\\PYTHON_PROJECTS\\essencepy\\conf\\application.properties\n",
      "YAML_FILE: c:\\Users\\f9990990\\Downloads\\PYTHON_PROJECTS\\essencepy/conf/application.yaml\n"
     ]
    }
   ],
   "source": [
    "import os, sys\n",
    "from pathlib import Path\n",
    "\n",
    "### APPLICATION_HOME ###\n",
    "APPLICATION_HOME = os.getenv(\"APPLICATION_HOME\")\n",
    "if APPLICATION_HOME is None:\n",
    "    current_path = Path.cwd()   # get previous folder from current location\n",
    "    # checking init_code.py is existing in lib/init\n",
    "    for parent in current_path.parents:\n",
    "        if (parent / 'lib/init/init_code.py').exists():\n",
    "            APPLICATION_HOME = str(parent)  # APPLICATION_HOME trouvé\n",
    "            break\n",
    "    else:\n",
    "        # Fallback : using current folder if nothing found\n",
    "        APPLICATION_HOME = str(current_path)\n",
    "\n",
    "# ### APPLICATION_NAME ###\n",
    "if (os.getenv(\"APPLICATION_NAME\") is not None): \n",
    "    APPLICATION_NAME = os.getenv(\"APPLICATION_NAME\")\n",
    "else:\n",
    "    try: APPLICATION_NAME # APPLICATION_NAME not defined\n",
    "    except: APPLICATION_NAME = None\n",
    "    if APPLICATION_NAME is None: \n",
    "        APPLICATION_NAME = \"Default\"\n",
    "\n",
    "# Load dynamically libraries files\n",
    "sys.path.append(f\"{APPLICATION_HOME}/lib/init\")\n",
    "\n",
    "# Import init_code for loading class included in lib/init\n",
    "from init_code import load_and_initialize_classes\n",
    "\n",
    "# Load and initiate classes with globale vars\n",
    "global_vars={\"app_home\": APPLICATION_HOME,\n",
    "             \"app_name\": APPLICATION_NAME}\n",
    "\n",
    "instances = load_and_initialize_classes(f\"{APPLICATION_HOME}/lib/init\", global_vars)"
   ]
  },
  {
   "cell_type": "code",
   "execution_count": 5,
   "metadata": {},
   "outputs": [
    {
     "name": "stdout",
     "output_type": "stream",
     "text": [
      "PersonalVarEnv_Windows\n"
     ]
    }
   ],
   "source": [
    "# Get env. variables from application.properties file (with stripping by default)\n",
    "print(f\"{cfg_prop.get('var_env')}\")"
   ]
  },
  {
   "cell_type": "code",
   "execution_count": 7,
   "metadata": {},
   "outputs": [
    {
     "name": "stdout",
     "output_type": "stream",
     "text": [
      "My Application_\n"
     ]
    }
   ],
   "source": [
    "# Get string variable from application.properties file (with stripping by default)\n",
    "print(f\"{cfg_prop.get('app_name')}_\")"
   ]
  },
  {
   "cell_type": "code",
   "execution_count": 8,
   "metadata": {},
   "outputs": [
    {
     "name": "stdout",
     "output_type": "stream",
     "text": [
      "My Application _\n"
     ]
    }
   ],
   "source": [
    "# Get string variable from application.properties file (without stripping)\n",
    "print(f\"{cfg_prop.get('app_name', strip_values=False)}_\")"
   ]
  },
  {
   "cell_type": "code",
   "execution_count": 9,
   "metadata": {},
   "outputs": [
    {
     "name": "stdout",
     "output_type": "stream",
     "text": [
      "python3\n"
     ]
    }
   ],
   "source": [
    "# Get parameter from env.conf file\n",
    "print(cfg_prop.get(\"PARENT_PYTHON_EXE\"))"
   ]
  },
  {
   "cell_type": "code",
   "execution_count": 10,
   "metadata": {},
   "outputs": [
    {
     "name": "stdout",
     "output_type": "stream",
     "text": [
      "My Application_PersonalVarEnv_Windows\n"
     ]
    }
   ],
   "source": [
    "# Get values from a placeholder set into application.properties file\n",
    "print(cfg_prop.get(\"placeholder\"))"
   ]
  },
  {
   "cell_type": "code",
   "execution_count": 11,
   "metadata": {},
   "outputs": [
    {
     "name": "stdout",
     "output_type": "stream",
     "text": [
      "c:\\Users\\f9990990\\Downloads\\PYTHON_PROJECTS\\essencepy/rt/python\n"
     ]
    }
   ],
   "source": [
    "# Get value from a hierarchical placeholder from env.conf file\n",
    "print(cfg_prop.get(\"VENV_PYTHON_DIR\"))"
   ]
  }
 ],
 "metadata": {
  "kernelspec": {
   "display_name": "python",
   "language": "python",
   "name": "python3"
  },
  "language_info": {
   "codemirror_mode": {
    "name": "ipython",
    "version": 3
   },
   "file_extension": ".py",
   "mimetype": "text/x-python",
   "name": "python",
   "nbconvert_exporter": "python",
   "pygments_lexer": "ipython3",
   "version": "3.12.8"
  }
 },
 "nbformat": 4,
 "nbformat_minor": 4
}
